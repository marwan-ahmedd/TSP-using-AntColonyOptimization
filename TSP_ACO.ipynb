{
 "cells": [
  {
   "cell_type": "code",
   "execution_count": 3,
   "id": "66834b4a-7199-4288-8aaf-bd3a28455af7",
   "metadata": {},
   "outputs": [],
   "source": [
    "import numpy as np"
   ]
  },
  {
   "cell_type": "markdown",
   "id": "2928ba9c-6002-4d5a-a50d-14ccb05ef105",
   "metadata": {},
   "source": [
    "## Generating random distance"
   ]
  },
  {
   "cell_type": "code",
   "execution_count": 4,
   "id": "b70a0257-b761-434d-9459-8005c931c67f",
   "metadata": {},
   "outputs": [],
   "source": [
    "def generate_distances(num_cities):\n",
    "    distances = np.zeros(shape=(num_cities, num_cities))\n",
    "    for i in range(num_cities):\n",
    "        for j in range(num_cities):\n",
    "            if i != j and distances[i, j] == 0:\n",
    "                distances[i, j] = distances[j, i] = np.random.randint(3, 51)\n",
    "    return distances"
   ]
  },
  {
   "cell_type": "code",
   "execution_count": 21,
   "id": "7a20afd6-b67d-479a-a12c-cb8e6cc0631a",
   "metadata": {},
   "outputs": [],
   "source": [
    "class AntColony:\n",
    "    def __init__(self, distances, num_ants, num_iterations, evaporation_rate=0.5, alpha=1, beta=2):\n",
    "        self.distances = distances\n",
    "        self.num_cities = len(distances)\n",
    "        self.num_ants = num_ants\n",
    "        self.num_iterations = num_iterations\n",
    "        self.evaporation_rate = evaporation_rate\n",
    "        self.alpha = alpha\n",
    "        self.beta = beta\n",
    "        self.pheromones = np.ones_like(distances)\n",
    "    \n",
    "    def run(self):\n",
    "        shortest_path = None\n",
    "        shortest_distance = float('inf')\n",
    "\n",
    "        for _ in range(self.num_iterations):\n",
    "            paths = self.generate_paths()\n",
    "            self.update_pheromones(paths)\n",
    "            for path in paths:\n",
    "                path.append(path[0])\n",
    "                distance = self.calculate_distance(path)\n",
    "                if distance < shortest_distance:\n",
    "                    shortest_distance = distance\n",
    "                    shortest_path = path\n",
    "        return shortest_path, shortest_distance\n",
    "\n",
    "    def update_pheromones(self, paths):\n",
    "        pheromone_delta = np.zeros_like(self.pheromones)\n",
    "        for path in paths:\n",
    "            distance = self.calculate_distance(path)\n",
    "            for i in range(len(path) - 1):\n",
    "                current_city = path[i]\n",
    "                next_city = path[i + 1]\n",
    "                pheromone_delta[current_city, next_city] += 1 / distance\n",
    "                pheromone_delta[next_city, current_city] += 1 / distance\n",
    "        self.pheromones = (1 - self.evaporation_rate) * self.pheromones + pheromone_delta\n",
    "\n",
    "\n",
    "    def calculate_distance(self, path):\n",
    "        distance = 0\n",
    "        for i in range(len(path) - 1):\n",
    "            current_city = path[i]\n",
    "            next_city = path[i + 1]\n",
    "            distance += self.distances[current_city, next_city]\n",
    "        return distance\n",
    "        \n",
    "    def generate_paths(self):\n",
    "        paths = []\n",
    "        for _ in range(self.num_ants):\n",
    "            path = self.generate_path(0)\n",
    "            paths.append(path)\n",
    "        return paths\n",
    "        \n",
    "    def generate_path(self, start_city):\n",
    "        # path = [start_city] \n",
    "        path = [np.random.randint(0, self.num_cities)]\n",
    "        # Add cities according to probability\n",
    "        while len(path) < self.num_cities:\n",
    "            next_city = self.choose_next_city(path)\n",
    "            path.append(next_city)\n",
    "        return path\n",
    "        \n",
    "    def choose_next_city(self, path):\n",
    "        cur_city = path[-1]\n",
    "        unvisited_cities = [city for city in range(self.num_cities) if city not in path]\n",
    "        prob = [self.calculate_prob(cur_city, city) for city in unvisited_cities]\n",
    "        total_prob = sum(prob)\n",
    "        normalized_prob = [p / total_prob for p in prob]\n",
    "        next_city = np.random.choice(unvisited_cities, p=normalized_prob)\n",
    "        return next_city\n",
    "        \n",
    "    def calculate_prob(self, cur_city, next_city):\n",
    "        pheromone = self.pheromones[cur_city, next_city]\n",
    "        distance = self.distances[cur_city, next_city]\n",
    "        total = 0\n",
    "        for city in range(self.num_cities):\n",
    "            if city != cur_city:\n",
    "                total += (self.pheromones[cur_city, city] ** self.alpha) * (1 / self.distances[cur_city, city] ** self.beta)\n",
    "        prob = (pheromone ** self.alpha) * (1 / distance ** self.beta) / total\n",
    "        return prob"
   ]
  },
  {
   "cell_type": "code",
   "execution_count": 30,
   "id": "6918a15c-aaba-4cc0-8bca-e98a505e1b02",
   "metadata": {},
   "outputs": [
    {
     "name": "stdout",
     "output_type": "stream",
     "text": [
      "[1, 2, 3, 4, 0, 5, 6, 9, 7, 8, 1] 122.0\n",
      "[4, 3, 2, 1, 8, 7, 9, 6, 5, 0, 4] 122.0\n",
      "[9, 6, 5, 0, 4, 3, 2, 1, 8, 7, 9] 122.0\n",
      "[9, 7, 8, 1, 2, 3, 4, 0, 5, 6, 9] 122.0\n"
     ]
    }
   ],
   "source": [
    "num_iterations = 50\n",
    "distances_10 = generate_distances(10)\n",
    "distances = np.zeros(shape=(4, 4))\n",
    "distances[0, 1] = distances[1, 0] = 10\n",
    "distances[0, 2] = distances[2, 0] = 15\n",
    "distances[0, 3] = distances[3, 0] = 20\n",
    "distances[1, 3] = distances[3, 1] = 25\n",
    "distances[2, 3] = distances[3, 2] = 30\n",
    "distances[1, 2] = distances[2, 1] = 35\n",
    "\n",
    "num_agents = [1, 5, 10, 20]\n",
    "for agent in num_agents:\n",
    "    colony = AntColony(distances_10, agent, num_iterations)\n",
    "    shortest_path, shortest_distance = colony.run()\n",
    "    print(shortest_path, shortest_distance)"
   ]
  },
  {
   "cell_type": "code",
   "execution_count": 31,
   "id": "cf7bd69a-59a8-4484-9bac-1c0ea65cba4a",
   "metadata": {},
   "outputs": [
    {
     "name": "stdout",
     "output_type": "stream",
     "text": [
      "[10, 7, 11, 9, 8, 18, 19, 3, 14, 13, 1, 4, 2, 17, 0, 6, 12, 16, 5, 15, 10] 155.0\n",
      "[7, 10, 15, 5, 16, 8, 18, 19, 3, 14, 13, 1, 4, 2, 17, 0, 6, 12, 9, 11, 7] 145.0\n",
      "[17, 2, 4, 10, 15, 5, 16, 6, 12, 8, 18, 19, 3, 7, 11, 9, 1, 13, 14, 0, 17] 144.0\n",
      "[3, 19, 18, 8, 12, 6, 16, 5, 15, 10, 4, 2, 17, 0, 14, 13, 1, 9, 11, 7, 3] 144.0\n"
     ]
    }
   ],
   "source": [
    "num_iterations = 50\n",
    "distances_20 = generate_distances(20)\n",
    "num_agents = [1, 5, 10, 20]\n",
    "for agent in num_agents:\n",
    "    colony = AntColony(distances_20, agent, num_iterations)\n",
    "    shortest_path, shortest_distance = colony.run()\n",
    "    print(shortest_path, shortest_distance)"
   ]
  },
  {
   "cell_type": "code",
   "execution_count": null,
   "id": "ff791084-f12e-4c83-99f3-d2a6e0e92849",
   "metadata": {},
   "outputs": [],
   "source": []
  }
 ],
 "metadata": {
  "kernelspec": {
   "display_name": "Python 3 (ipykernel)",
   "language": "python",
   "name": "python3"
  },
  "language_info": {
   "codemirror_mode": {
    "name": "ipython",
    "version": 3
   },
   "file_extension": ".py",
   "mimetype": "text/x-python",
   "name": "python",
   "nbconvert_exporter": "python",
   "pygments_lexer": "ipython3",
   "version": "3.10.12"
  }
 },
 "nbformat": 4,
 "nbformat_minor": 5
}
